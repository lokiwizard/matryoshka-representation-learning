{
 "cells": [
  {
   "cell_type": "code",
   "execution_count": null,
   "id": "initial_id",
   "metadata": {
    "collapsed": true
   },
   "outputs": [],
   "source": [
    "from pretrained_models.load_pretrained_models import load_models\n",
    "from MRL import MRL_Linear_Layer,Matryoshka_CE_Loss"
   ]
  },
  {
   "cell_type": "code",
   "outputs": [],
   "source": [
    "resnet18 = load_models('resnet18')"
   ],
   "metadata": {
    "collapsed": false
   },
   "id": "eccb8aae4ed3c323",
   "execution_count": null
  },
  {
   "cell_type": "code",
   "outputs": [],
   "source": [
    "import torch\n",
    "import torch.functional as F\n",
    "import torch.nn as nn"
   ],
   "metadata": {
    "collapsed": false
   },
   "id": "8f35189789a42959",
   "execution_count": null
  },
  {
   "cell_type": "code",
   "outputs": [],
   "source": [
    "# 去掉最后一层\n",
    "resnet18 = torch.nn.Sequential(*list(resnet18.children())[:-1])"
   ],
   "metadata": {
    "collapsed": false
   },
   "id": "36a911423713326b",
   "execution_count": null
  },
  {
   "cell_type": "code",
   "outputs": [],
   "source": [
    "mrl_linear_layer = MRL_Linear_Layer(nesting_list=[16, 64, 128, 256, 512], num_classes=10)"
   ],
   "metadata": {
    "collapsed": false
   },
   "id": "5b862ced51553edb",
   "execution_count": null
  },
  {
   "cell_type": "code",
   "outputs": [],
   "source": [
    "mrl_resnet18 = torch.nn.Sequential(resnet18,\n",
    "                                   nn.Flatten(start_dim=1),\n",
    "                                    mrl_linear_layer)      "
   ],
   "metadata": {
    "collapsed": false
   },
   "id": "8cc7b08edfbced7",
   "execution_count": null
  },
  {
   "cell_type": "code",
   "outputs": [],
   "source": [
    "# load cifar10\n",
    "import torchvision\n",
    "import torchvision.transforms as transforms\n",
    "\n",
    "transform = transforms.Compose(\n",
    "    [transforms.ToTensor(),\n",
    "     transforms.Normalize((0.5, 0.5, 0.5), (0.5, 0.5, 0.5))])\n",
    "\n",
    "trainset = torchvision.datasets.CIFAR10(root='./data', train=True,\n",
    "                                        download=True, transform=transform)\n",
    "trainloader = torch.utils.data.DataLoader(trainset, batch_size=64,\n",
    "                                          shuffle=True, num_workers=2)\n",
    "\n",
    "testset = torchvision.datasets.CIFAR10(root='./data', train=False,\n",
    "                                        download=True, transform=transform)\n",
    "\n",
    "testloader = torch.utils.data.DataLoader(testset, batch_size=64,\n",
    "                                            shuffle=False, num_workers=2)\n"
   ],
   "metadata": {
    "collapsed": false
   },
   "id": "dc2682217bd0ecd0",
   "execution_count": null
  },
  {
   "cell_type": "code",
   "outputs": [],
   "source": [
    "import torch.optim as optim\n",
    "\n",
    "criterion = Matryoshka_CE_Loss()\n",
    "optimizer = optim.SGD(mrl_resnet18.parameters(), lr=0.001, momentum=0.9)\n"
   ],
   "metadata": {
    "collapsed": false
   },
   "id": "f16a1f70fb0c1593",
   "execution_count": null
  },
  {
   "cell_type": "code",
   "outputs": [],
   "source": [
    "device = torch.device(\"cuda:0\" if torch.cuda.is_available() else \"cpu\")\n",
    "mrl_resnet18.to(device)"
   ],
   "metadata": {
    "collapsed": false
   },
   "id": "c59874f35af5ff94",
   "execution_count": null
  },
  {
   "cell_type": "code",
   "outputs": [],
   "source": [
    "def train_epoch(model, data_loader, criterion, optimizer, device):\n",
    "    \n",
    "    model.train()\n",
    "    train_loss = 0.0\n",
    "    correct = 0\n",
    "    total = 0\n",
    "    \n",
    "    for data, target in data_loader:\n",
    "        data = data.to(device)\n",
    "        target = target.to(device)\n",
    "        \n",
    "        optimizer.zero_grad()\n",
    "        output = model(data)\n",
    "        loss = criterion(output, target)\n",
    "        loss.backward()\n",
    "        optimizer.step()\n",
    "        \n",
    "        train_loss += loss.item()\n",
    "        correct_output = 0\n",
    "        for each_output in output:\n",
    "            _, predicted = each_output.max(1)\n",
    "            correct_output += predicted.eq(target).sum().item()\n",
    "        correct += (correct_output/len(output))\n",
    "        total += target.size(0)\n",
    "    return train_loss / len(data_loader), correct / total"
   ],
   "metadata": {
    "collapsed": false
   },
   "id": "e6e59b5d3f38279b",
   "execution_count": null
  },
  {
   "cell_type": "code",
   "outputs": [],
   "source": [
    "def test_epoch(model, data_loader, criterion, device):\n",
    "    \n",
    "    model.eval()\n",
    "    test_loss = 0.0\n",
    "    correct = 0\n",
    "    total = 0\n",
    "    \n",
    "    with torch.no_grad():\n",
    "        for data, target in data_loader:\n",
    "            data = data.to(device)\n",
    "            target = target.to(device)\n",
    "            \n",
    "            output = model(data)\n",
    "            loss = criterion(output, target)\n",
    "            \n",
    "            test_loss += loss.item()\n",
    "            correct_output = 0\n",
    "            for each_output in output:\n",
    "                _, predicted = each_output.max(1)\n",
    "                correct_output += predicted.eq(target).sum().item()\n",
    "            correct += (correct_output/len(output))\n",
    "            total += target.size(0)\n",
    "    return test_loss / len(data_loader), correct / total"
   ],
   "metadata": {
    "collapsed": false
   },
   "id": "d68f0765247641af",
   "execution_count": null
  },
  {
   "cell_type": "code",
   "outputs": [],
   "source": [
    "epochs = 10"
   ],
   "metadata": {
    "collapsed": false
   },
   "id": "7c50cb2a428d2a39",
   "execution_count": null
  },
  {
   "cell_type": "code",
   "outputs": [],
   "source": [
    "for epoch in range(epochs):\n",
    "    \n",
    "    train_loss, train_acc = train_epoch(mrl_resnet18, trainloader, criterion, optimizer, device)\n",
    "    test_loss, test_acc = test_epoch(mrl_resnet18, testloader, criterion, device)\n",
    "    \n",
    "    print(f'Epoch [{epoch}/{epochs}], Train Loss: {train_loss:.4f}, Train Acc: {train_acc:.4f}, Test Loss: {test_loss:.4f}, Test Acc: {test_acc:.4f}')"
   ],
   "metadata": {
    "collapsed": false
   },
   "id": "f4877f6839bd141c",
   "execution_count": null
  },
  {
   "cell_type": "code",
   "outputs": [],
   "source": [],
   "metadata": {
    "collapsed": false
   },
   "id": "34fc62bca2d34eba"
  }
 ],
 "metadata": {
  "kernelspec": {
   "display_name": "Python 3",
   "language": "python",
   "name": "python3"
  },
  "language_info": {
   "codemirror_mode": {
    "name": "ipython",
    "version": 2
   },
   "file_extension": ".py",
   "mimetype": "text/x-python",
   "name": "python",
   "nbconvert_exporter": "python",
   "pygments_lexer": "ipython2",
   "version": "2.7.6"
  }
 },
 "nbformat": 4,
 "nbformat_minor": 5
}
